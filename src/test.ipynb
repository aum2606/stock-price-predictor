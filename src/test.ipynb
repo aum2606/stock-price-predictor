{
 "cells": [
  {
   "cell_type": "code",
   "execution_count": 1,
   "metadata": {},
   "outputs": [],
   "source": [
    "import pandas as pd\n",
    "from sklearn.preprocessing import MinMaxScaler\n",
    "from src.components.model_prediction import evaluation_metrics, predict_and_plot\n",
    "import yfinance as yf\n",
    "import numpy as np\n",
    "from src.components.data_preprocessor import MinMaxScaling, PreProcessor\n",
    "from src.components.data_splitter import CustomDataSplittingStrategy, DataSplitter, create_sequences\n",
    "from src.components.model_building import GRUModelBuilder, LSTMModelBuilder, ModelBuilder, RNNMdelBuilder\n"
   ]
  },
  {
   "cell_type": "code",
   "execution_count": null,
   "metadata": {},
   "outputs": [
    {
     "data": {
      "text/html": [
       "<div>\n",
       "<style scoped>\n",
       "    .dataframe tbody tr th:only-of-type {\n",
       "        vertical-align: middle;\n",
       "    }\n",
       "\n",
       "    .dataframe tbody tr th {\n",
       "        vertical-align: top;\n",
       "    }\n",
       "\n",
       "    .dataframe thead th {\n",
       "        text-align: right;\n",
       "    }\n",
       "</style>\n",
       "<table border=\"1\" class=\"dataframe\">\n",
       "  <thead>\n",
       "    <tr style=\"text-align: right;\">\n",
       "      <th></th>\n",
       "      <th>Date</th>\n",
       "      <th>Adj Close</th>\n",
       "      <th>Close</th>\n",
       "      <th>High</th>\n",
       "      <th>Low</th>\n",
       "      <th>Open</th>\n",
       "      <th>Volume</th>\n",
       "    </tr>\n",
       "  </thead>\n",
       "  <tbody>\n",
       "    <tr>\n",
       "      <th>0</th>\n",
       "      <td>2019-11-07 00:00:00+00:00</td>\n",
       "      <td>62.947399</td>\n",
       "      <td>64.857498</td>\n",
       "      <td>65.087502</td>\n",
       "      <td>64.527496</td>\n",
       "      <td>64.684998</td>\n",
       "      <td>94940400</td>\n",
       "    </tr>\n",
       "    <tr>\n",
       "      <th>1</th>\n",
       "      <td>2019-11-08 00:00:00+00:00</td>\n",
       "      <td>63.119667</td>\n",
       "      <td>65.035004</td>\n",
       "      <td>65.110001</td>\n",
       "      <td>64.212502</td>\n",
       "      <td>64.672501</td>\n",
       "      <td>69986400</td>\n",
       "    </tr>\n",
       "    <tr>\n",
       "      <th>2</th>\n",
       "      <td>2019-11-11 00:00:00+00:00</td>\n",
       "      <td>63.619492</td>\n",
       "      <td>65.550003</td>\n",
       "      <td>65.617500</td>\n",
       "      <td>64.570000</td>\n",
       "      <td>64.574997</td>\n",
       "      <td>81821200</td>\n",
       "    </tr>\n",
       "    <tr>\n",
       "      <th>3</th>\n",
       "      <td>2019-11-12 00:00:00+00:00</td>\n",
       "      <td>63.561279</td>\n",
       "      <td>65.489998</td>\n",
       "      <td>65.697502</td>\n",
       "      <td>65.230003</td>\n",
       "      <td>65.387497</td>\n",
       "      <td>87388800</td>\n",
       "    </tr>\n",
       "    <tr>\n",
       "      <th>4</th>\n",
       "      <td>2019-11-13 00:00:00+00:00</td>\n",
       "      <td>64.170296</td>\n",
       "      <td>66.117500</td>\n",
       "      <td>66.195000</td>\n",
       "      <td>65.267502</td>\n",
       "      <td>65.282501</td>\n",
       "      <td>102734400</td>\n",
       "    </tr>\n",
       "    <tr>\n",
       "      <th>...</th>\n",
       "      <td>...</td>\n",
       "      <td>...</td>\n",
       "      <td>...</td>\n",
       "      <td>...</td>\n",
       "      <td>...</td>\n",
       "      <td>...</td>\n",
       "      <td>...</td>\n",
       "    </tr>\n",
       "    <tr>\n",
       "      <th>1251</th>\n",
       "      <td>2024-10-29 00:00:00+00:00</td>\n",
       "      <td>233.669998</td>\n",
       "      <td>233.669998</td>\n",
       "      <td>234.330002</td>\n",
       "      <td>232.320007</td>\n",
       "      <td>233.100006</td>\n",
       "      <td>35417200</td>\n",
       "    </tr>\n",
       "    <tr>\n",
       "      <th>1252</th>\n",
       "      <td>2024-10-30 00:00:00+00:00</td>\n",
       "      <td>230.100006</td>\n",
       "      <td>230.100006</td>\n",
       "      <td>233.470001</td>\n",
       "      <td>229.550003</td>\n",
       "      <td>232.610001</td>\n",
       "      <td>47070900</td>\n",
       "    </tr>\n",
       "    <tr>\n",
       "      <th>1253</th>\n",
       "      <td>2024-10-31 00:00:00+00:00</td>\n",
       "      <td>225.910004</td>\n",
       "      <td>225.910004</td>\n",
       "      <td>229.830002</td>\n",
       "      <td>225.369995</td>\n",
       "      <td>229.339996</td>\n",
       "      <td>64370100</td>\n",
       "    </tr>\n",
       "    <tr>\n",
       "      <th>1254</th>\n",
       "      <td>2024-11-01 00:00:00+00:00</td>\n",
       "      <td>222.910004</td>\n",
       "      <td>222.910004</td>\n",
       "      <td>225.350006</td>\n",
       "      <td>220.270004</td>\n",
       "      <td>220.970001</td>\n",
       "      <td>65276700</td>\n",
       "    </tr>\n",
       "    <tr>\n",
       "      <th>1255</th>\n",
       "      <td>2024-11-04 00:00:00+00:00</td>\n",
       "      <td>222.009995</td>\n",
       "      <td>222.009995</td>\n",
       "      <td>222.789993</td>\n",
       "      <td>219.710007</td>\n",
       "      <td>220.990005</td>\n",
       "      <td>44903300</td>\n",
       "    </tr>\n",
       "  </tbody>\n",
       "</table>\n",
       "<p>1256 rows × 7 columns</p>\n",
       "</div>"
      ],
      "text/plain": [
       "                           Date   Adj Close       Close        High  \\\n",
       "0     2019-11-07 00:00:00+00:00   62.947399   64.857498   65.087502   \n",
       "1     2019-11-08 00:00:00+00:00   63.119667   65.035004   65.110001   \n",
       "2     2019-11-11 00:00:00+00:00   63.619492   65.550003   65.617500   \n",
       "3     2019-11-12 00:00:00+00:00   63.561279   65.489998   65.697502   \n",
       "4     2019-11-13 00:00:00+00:00   64.170296   66.117500   66.195000   \n",
       "...                         ...         ...         ...         ...   \n",
       "1251  2024-10-29 00:00:00+00:00  233.669998  233.669998  234.330002   \n",
       "1252  2024-10-30 00:00:00+00:00  230.100006  230.100006  233.470001   \n",
       "1253  2024-10-31 00:00:00+00:00  225.910004  225.910004  229.830002   \n",
       "1254  2024-11-01 00:00:00+00:00  222.910004  222.910004  225.350006   \n",
       "1255  2024-11-04 00:00:00+00:00  222.009995  222.009995  222.789993   \n",
       "\n",
       "             Low        Open     Volume  \n",
       "0      64.527496   64.684998   94940400  \n",
       "1      64.212502   64.672501   69986400  \n",
       "2      64.570000   64.574997   81821200  \n",
       "3      65.230003   65.387497   87388800  \n",
       "4      65.267502   65.282501  102734400  \n",
       "...          ...         ...        ...  \n",
       "1251  232.320007  233.100006   35417200  \n",
       "1252  229.550003  232.610001   47070900  \n",
       "1253  225.369995  229.339996   64370100  \n",
       "1254  220.270004  220.970001   65276700  \n",
       "1255  219.710007  220.990005   44903300  \n",
       "\n",
       "[1256 rows x 7 columns]"
      ]
     },
     "execution_count": 35,
     "metadata": {},
     "output_type": "execute_result"
    }
   ],
   "source": [
    "data = pd.read_csv('D:\\coding\\ml\\stock-price-predictor\\src\\components\\data\\AAPL_stock_data.csv')\n",
    "data\n"
   ]
  },
  {
   "cell_type": "code",
   "execution_count": 36,
   "metadata": {},
   "outputs": [],
   "source": [
    "data[['Date','date']] =  data['Date'].str.split(\" \",expand=True)"
   ]
  },
  {
   "cell_type": "code",
   "execution_count": null,
   "metadata": {},
   "outputs": [
    {
     "data": {
      "text/plain": [
       "0        94940400\n",
       "1        69986400\n",
       "2        81821200\n",
       "3        87388800\n",
       "4       102734400\n",
       "          ...    \n",
       "1251     35417200\n",
       "1252     47070900\n",
       "1253     64370100\n",
       "1254     65276700\n",
       "1255     44903300\n",
       "Name: Volume, Length: 1256, dtype: int64"
      ]
     },
     "execution_count": 40,
     "metadata": {},
     "output_type": "execute_result"
    }
   ],
   "source": []
  },
  {
   "cell_type": "code",
   "execution_count": 41,
   "metadata": {},
   "outputs": [
    {
     "data": {
      "text/plain": [
       "(217.52999878,\n",
       " 221.27000427,\n",
       " 221.72000122,\n",
       " 224.72000122,\n",
       " 226.05000305,\n",
       " 225.88999939,\n",
       " 226.50999451,\n",
       " 226.3999939,\n",
       " 224.52999878,\n",
       " 226.83999634,\n",
       " 227.17999268,\n",
       " 228.02999878,\n",
       " 226.49000549,\n",
       " 229.78999329,\n",
       " 229,\n",
       " 222.77000427,\n",
       " 220.8500061,\n",
       " 222.38000488,\n",
       " 220.82000732,\n",
       " 220.91000366,\n",
       " 220.11000061,\n",
       " 222.66000366,\n",
       " 222.77000427,\n",
       " 222.5,\n",
       " 216.32000732,\n",
       " 216.78999329,\n",
       " 220.69000244,\n",
       " 228.86999512,\n",
       " 228.19999695,\n",
       " 226.47000122,\n",
       " 227.36999512,\n",
       " 226.36999512,\n",
       " 227.52000427,\n",
       " 227.78999329,\n",
       " 233,\n",
       " 226.21000671,\n",
       " 226.77999878,\n",
       " 225.66999817,\n",
       " 226.80000305,\n",
       " 221.69000244,\n",
       " 225.77000427,\n",
       " 229.53999329,\n",
       " 229.03999329,\n",
       " 227.55000305,\n",
       " 231.30000305,\n",
       " 233.8500061,\n",
       " 231.77999878,\n",
       " 232.1499939,\n",
       " 235,\n",
       " 236.47999573,\n",
       " 235.86000061,\n",
       " 230.75999451,\n",
       " 230.57000732,\n",
       " 231.41000366,\n",
       " 233.3999939,\n",
       " 233.66999817,\n",
       " 230.1000061,\n",
       " 225.91000366,\n",
       " 222.91000366,\n",
       " 222.00999451)"
      ]
     },
     "execution_count": 41,
     "metadata": {},
     "output_type": "execute_result"
    }
   ],
   "source": [
    "217.52999878,221.27000427,221.72000122,224.72000122,226.05000305,225.88999939,226.50999451,226.3999939,224.52999878,226.83999634,227.17999268,228.02999878,226.49000549,229.78999329,229,222.77000427,220.8500061,222.38000488,220.82000732,220.91000366,220.11000061,222.66000366,222.77000427,222.5,216.32000732,216.78999329,220.69000244,228.86999512,228.19999695,226.47000122,227.36999512,226.36999512,227.52000427,227.78999329,233,226.21000671,226.77999878,225.66999817,226.80000305,221.69000244,225.77000427,229.53999329,229.03999329,227.55000305,231.30000305,233.8500061,231.77999878,232.1499939,235,236.47999573,235.86000061,230.75999451,230.57000732,231.41000366,233.3999939,233.66999817,230.1000061,225.91000366,222.91000366,222.00999451"
   ]
  },
  {
   "cell_type": "code",
   "execution_count": 49,
   "metadata": {},
   "outputs": [
    {
     "name": "stdout",
     "output_type": "stream",
     "text": [
      "                        Date  Adj Close      Close       High        Low  \\\n",
      "0  2019-11-07 00:00:00+00:00  62.947399  64.857498  65.087502  64.527496   \n",
      "1  2019-11-08 00:00:00+00:00  63.119667  65.035004  65.110001  64.212502   \n",
      "2  2019-11-11 00:00:00+00:00  63.619492  65.550003  65.617500  64.570000   \n",
      "3  2019-11-12 00:00:00+00:00  63.561279  65.489998  65.697502  65.230003   \n",
      "4  2019-11-13 00:00:00+00:00  64.170296  66.117500  66.195000  65.267502   \n",
      "\n",
      "        Open     Volume  \n",
      "0  64.684998   94940400  \n",
      "1  64.672501   69986400  \n",
      "2  64.574997   81821200  \n",
      "3  65.387497   87388800  \n",
      "4  65.282501  102734400  \n",
      "(1256, 1)\n",
      "\n",
      "begining model training for lstm\n",
      "-----------------------------------------------\n"
     ]
    },
    {
     "name": "stderr",
     "output_type": "stream",
     "text": [
      "c:\\Users\\aumpa\\anaconda3\\envs\\stockenv\\Lib\\site-packages\\keras\\src\\layers\\rnn\\rnn.py:204: UserWarning: Do not pass an `input_shape`/`input_dim` argument to a layer. When using Sequential models, prefer using an `Input(shape)` object as the first layer in the model instead.\n",
      "  super().__init__(**kwargs)\n"
     ]
    },
    {
     "data": {
      "text/html": [
       "<pre style=\"white-space:pre;overflow-x:auto;line-height:normal;font-family:Menlo,'DejaVu Sans Mono',consolas,'Courier New',monospace\"><span style=\"font-weight: bold\">Model: \"sequential_2\"</span>\n",
       "</pre>\n"
      ],
      "text/plain": [
       "\u001b[1mModel: \"sequential_2\"\u001b[0m\n"
      ]
     },
     "metadata": {},
     "output_type": "display_data"
    },
    {
     "data": {
      "text/html": [
       "<pre style=\"white-space:pre;overflow-x:auto;line-height:normal;font-family:Menlo,'DejaVu Sans Mono',consolas,'Courier New',monospace\">┏━━━━━━━━━━━━━━━━━━━━━━━━━━━━━━━━━┳━━━━━━━━━━━━━━━━━━━━━━━━┳━━━━━━━━━━━━━━━┓\n",
       "┃<span style=\"font-weight: bold\"> Layer (type)                    </span>┃<span style=\"font-weight: bold\"> Output Shape           </span>┃<span style=\"font-weight: bold\">       Param # </span>┃\n",
       "┡━━━━━━━━━━━━━━━━━━━━━━━━━━━━━━━━━╇━━━━━━━━━━━━━━━━━━━━━━━━╇━━━━━━━━━━━━━━━┩\n",
       "│ lstm_4 (<span style=\"color: #0087ff; text-decoration-color: #0087ff\">LSTM</span>)                   │ (<span style=\"color: #00d7ff; text-decoration-color: #00d7ff\">None</span>, <span style=\"color: #00af00; text-decoration-color: #00af00\">60</span>, <span style=\"color: #00af00; text-decoration-color: #00af00\">50</span>)         │        <span style=\"color: #00af00; text-decoration-color: #00af00\">10,400</span> │\n",
       "├─────────────────────────────────┼────────────────────────┼───────────────┤\n",
       "│ lstm_5 (<span style=\"color: #0087ff; text-decoration-color: #0087ff\">LSTM</span>)                   │ (<span style=\"color: #00d7ff; text-decoration-color: #00d7ff\">None</span>, <span style=\"color: #00af00; text-decoration-color: #00af00\">50</span>)             │        <span style=\"color: #00af00; text-decoration-color: #00af00\">20,200</span> │\n",
       "├─────────────────────────────────┼────────────────────────┼───────────────┤\n",
       "│ dense_2 (<span style=\"color: #0087ff; text-decoration-color: #0087ff\">Dense</span>)                 │ (<span style=\"color: #00d7ff; text-decoration-color: #00d7ff\">None</span>, <span style=\"color: #00af00; text-decoration-color: #00af00\">1</span>)              │            <span style=\"color: #00af00; text-decoration-color: #00af00\">51</span> │\n",
       "└─────────────────────────────────┴────────────────────────┴───────────────┘\n",
       "</pre>\n"
      ],
      "text/plain": [
       "┏━━━━━━━━━━━━━━━━━━━━━━━━━━━━━━━━━┳━━━━━━━━━━━━━━━━━━━━━━━━┳━━━━━━━━━━━━━━━┓\n",
       "┃\u001b[1m \u001b[0m\u001b[1mLayer (type)                   \u001b[0m\u001b[1m \u001b[0m┃\u001b[1m \u001b[0m\u001b[1mOutput Shape          \u001b[0m\u001b[1m \u001b[0m┃\u001b[1m \u001b[0m\u001b[1m      Param #\u001b[0m\u001b[1m \u001b[0m┃\n",
       "┡━━━━━━━━━━━━━━━━━━━━━━━━━━━━━━━━━╇━━━━━━━━━━━━━━━━━━━━━━━━╇━━━━━━━━━━━━━━━┩\n",
       "│ lstm_4 (\u001b[38;5;33mLSTM\u001b[0m)                   │ (\u001b[38;5;45mNone\u001b[0m, \u001b[38;5;34m60\u001b[0m, \u001b[38;5;34m50\u001b[0m)         │        \u001b[38;5;34m10,400\u001b[0m │\n",
       "├─────────────────────────────────┼────────────────────────┼───────────────┤\n",
       "│ lstm_5 (\u001b[38;5;33mLSTM\u001b[0m)                   │ (\u001b[38;5;45mNone\u001b[0m, \u001b[38;5;34m50\u001b[0m)             │        \u001b[38;5;34m20,200\u001b[0m │\n",
       "├─────────────────────────────────┼────────────────────────┼───────────────┤\n",
       "│ dense_2 (\u001b[38;5;33mDense\u001b[0m)                 │ (\u001b[38;5;45mNone\u001b[0m, \u001b[38;5;34m1\u001b[0m)              │            \u001b[38;5;34m51\u001b[0m │\n",
       "└─────────────────────────────────┴────────────────────────┴───────────────┘\n"
      ]
     },
     "metadata": {},
     "output_type": "display_data"
    },
    {
     "data": {
      "text/html": [
       "<pre style=\"white-space:pre;overflow-x:auto;line-height:normal;font-family:Menlo,'DejaVu Sans Mono',consolas,'Courier New',monospace\"><span style=\"font-weight: bold\"> Total params: </span><span style=\"color: #00af00; text-decoration-color: #00af00\">30,651</span> (119.73 KB)\n",
       "</pre>\n"
      ],
      "text/plain": [
       "\u001b[1m Total params: \u001b[0m\u001b[38;5;34m30,651\u001b[0m (119.73 KB)\n"
      ]
     },
     "metadata": {},
     "output_type": "display_data"
    },
    {
     "data": {
      "text/html": [
       "<pre style=\"white-space:pre;overflow-x:auto;line-height:normal;font-family:Menlo,'DejaVu Sans Mono',consolas,'Courier New',monospace\"><span style=\"font-weight: bold\"> Trainable params: </span><span style=\"color: #00af00; text-decoration-color: #00af00\">30,651</span> (119.73 KB)\n",
       "</pre>\n"
      ],
      "text/plain": [
       "\u001b[1m Trainable params: \u001b[0m\u001b[38;5;34m30,651\u001b[0m (119.73 KB)\n"
      ]
     },
     "metadata": {},
     "output_type": "display_data"
    },
    {
     "data": {
      "text/html": [
       "<pre style=\"white-space:pre;overflow-x:auto;line-height:normal;font-family:Menlo,'DejaVu Sans Mono',consolas,'Courier New',monospace\"><span style=\"font-weight: bold\"> Non-trainable params: </span><span style=\"color: #00af00; text-decoration-color: #00af00\">0</span> (0.00 B)\n",
       "</pre>\n"
      ],
      "text/plain": [
       "\u001b[1m Non-trainable params: \u001b[0m\u001b[38;5;34m0\u001b[0m (0.00 B)\n"
      ]
     },
     "metadata": {},
     "output_type": "display_data"
    },
    {
     "name": "stdout",
     "output_type": "stream",
     "text": [
      "None\n",
      "model history completed for lstm\n",
      "\u001b[1m6/6\u001b[0m \u001b[32m━━━━━━━━━━━━━━━━━━━━\u001b[0m\u001b[37m\u001b[0m \u001b[1m0s\u001b[0m 6ms/step  \n",
      "Mean Squared Error: 9.831403862071367\n",
      "Mean Absolute Error: 2.2922592163085938\n",
      "R^2 Score: 0.9819918642310438\n",
      "lstm => 9.831403862071367\n",
      "lstm => 2.2922592163085938\n",
      "lstm => 0.9819918642310438\n",
      "========================================================================\n",
      "\u001b[1m6/6\u001b[0m \u001b[32m━━━━━━━━━━━━━━━━━━━━\u001b[0m\u001b[37m\u001b[0m \u001b[1m0s\u001b[0m 8ms/step \n"
     ]
    },
    {
     "data": {
      "image/png": "[encoded data removed]",
      "text/plain": [
       "<Figure size 1200x600 with 1 Axes>"
      ]
     },
     "metadata": {},
     "output_type": "display_data"
    },
    {
     "name": "stdout",
     "output_type": "stream",
     "text": [
      "the final model is <Sequential name=sequential_2, built=True>\n"
     ]
    }
   ],
   "source": [
    "def training_pipeline(data):\n",
    "    print(data.head())\n",
    "\n",
    "    #preprocessing the data\n",
    "    scaler = MinMaxScaler(feature_range=(0, 1))\n",
    "    scaled_data = scaler.fit_transform(data[['Close']])\n",
    "    print(scaled_data.shape)\n",
    "\n",
    "    # Splitting the data\n",
    "    splitter = DataSplitter(strategy=CustomDataSplittingStrategy())\n",
    "    X_train,y_train,X_test,y_test = splitter.split(scaled_data)\n",
    "\n",
    "    #making a dictionary to store models\n",
    "    predict_models = {}\n",
    "\n",
    "    #building models\n",
    "    model_builder = ModelBuilder(LSTMModelBuilder())\n",
    "    model = model_builder.compile_model(X_train=X_train)\n",
    "\n",
    "\n",
    "    print()\n",
    "    print(f\"begining model training for lstm\")\n",
    "    print(\"-----------------------------------------------\")\n",
    "    print(model.summary())\n",
    "    history = model.fit(X_train, y_train, epochs=100, batch_size=32, verbose=0,validation_data=(X_test,y_test))\n",
    "    print(f\"model history completed for lstm\")\n",
    "    mse,mae,r2 = evaluation_metrics(X_test,y_test,scaler,model)\n",
    "    print(f\"lstm => {mse}\")\n",
    "    print(f\"lstm => {mae}\")\n",
    "    print(f\"lstm => {r2}\")\n",
    "    print(\"========================================================================\")\n",
    "    predict_and_plot(model,X_test,y_test,scaler,title=f\"lstm prediction\")\n",
    "\n",
    "\n",
    "    return model\n",
    "\n",
    "data = pd.read_csv(\"D:/coding/ml/stock-price-predictor/src/components/data/AAPL_stock_data.csv\")\n",
    "model = training_pipeline(data=data)\n",
    "print(f\"the final model is {model}\")"
   ]
  },
  {
   "cell_type": "code",
   "execution_count": 50,
   "metadata": {},
   "outputs": [
    {
     "name": "stdout",
     "output_type": "stream",
     "text": [
      "                        Date  Adj Close      Close       High        Low  \\\n",
      "0  2019-11-07 00:00:00+00:00  62.947399  64.857498  65.087502  64.527496   \n",
      "1  2019-11-08 00:00:00+00:00  63.119667  65.035004  65.110001  64.212502   \n",
      "2  2019-11-11 00:00:00+00:00  63.619492  65.550003  65.617500  64.570000   \n",
      "3  2019-11-12 00:00:00+00:00  63.561279  65.489998  65.697502  65.230003   \n",
      "4  2019-11-13 00:00:00+00:00  64.170296  66.117500  66.195000  65.267502   \n",
      "\n",
      "        Open     Volume  \n",
      "0  64.684998   94940400  \n",
      "1  64.672501   69986400  \n",
      "2  64.574997   81821200  \n",
      "3  65.387497   87388800  \n",
      "4  65.282501  102734400  \n",
      "(1256, 1)\n"
     ]
    }
   ],
   "source": [
    "print(data.head())\n",
    "\n",
    "#preprocessing the data\n",
    "scaler = MinMaxScaler(feature_range=(0, 1))\n",
    "scaled_data = scaler.fit_transform(data[['Close']])\n",
    "print(scaled_data.shape)"
   ]
  },
  {
   "cell_type": "code",
   "execution_count": 67,
   "metadata": {},
   "outputs": [
    {
     "data": {
      "text/plain": [
       "[[217.52999877929688],\n",
       " [221.2700042724609],\n",
       " [221.72000122070312],\n",
       " [224.72000122070312],\n",
       " [226.0500030517578],\n",
       " [225.88999938964844],\n",
       " [226.50999450683597],\n",
       " [226.3999938964844],\n",
       " [224.52999877929688],\n",
       " [226.83999633789065],\n",
       " [227.17999267578125],\n",
       " [228.02999877929688],\n",
       " [226.4900054931641],\n",
       " [229.7899932861328],\n",
       " [228.99999999999997],\n",
       " [222.77000427246094],\n",
       " [220.85000610351562],\n",
       " [222.38000488281247],\n",
       " [220.82000732421878],\n",
       " [220.91000366210935],\n",
       " [220.11000061035156],\n",
       " [222.66000366210935],\n",
       " [222.77000427246094],\n",
       " [222.5],\n",
       " [216.32000732421875],\n",
       " [216.7899932861328],\n",
       " [220.69000244140625],\n",
       " [228.8699951171875],\n",
       " [228.1999969482422],\n",
       " [226.47000122070312],\n",
       " [227.36999511718747],\n",
       " [226.36999511718747],\n",
       " [227.5200042724609],\n",
       " [227.7899932861328],\n",
       " [232.99999999999997],\n",
       " [226.2100067138672],\n",
       " [226.77999877929688],\n",
       " [225.66999816894534],\n",
       " [226.8000030517578],\n",
       " [221.69000244140625],\n",
       " [225.77000427246094],\n",
       " [229.5399932861328],\n",
       " [229.0399932861328],\n",
       " [227.5500030517578],\n",
       " [231.30000305175784],\n",
       " [233.8500061035156],\n",
       " [231.77999877929688],\n",
       " [232.1499938964844],\n",
       " [235.00000000000003],\n",
       " [236.47999572753906],\n",
       " [235.8600006103516],\n",
       " [230.75999450683597],\n",
       " [230.57000732421875],\n",
       " [231.41000366210932],\n",
       " [233.3999938964844],\n",
       " [233.6699981689453],\n",
       " [230.10000610351557],\n",
       " [225.91000366210935],\n",
       " [222.91000366210935],\n",
       " [222.00999450683597]]"
      ]
     },
     "execution_count": 67,
     "metadata": {},
     "output_type": "execute_result"
    }
   ],
   "source": [
    "time_step = 60\n",
    "last_sequence = scaled_data[-time_step:]\n",
    "last_sequence = scaler.inverse_transform(last_sequence)\n",
    "\n",
    "last_sequence.tolist()"
   ]
  },
  {
   "cell_type": "code",
   "execution_count": null,
   "metadata": {},
   "outputs": [],
   "source": [
    "217.52999877929688,\n",
    "221.2700042724609,\n",
    "221.72000122070312,\n",
    "224.72000122070312,\n",
    "226.0500030517578,\n",
    "225.88999938964844,\n",
    "226.50999450683597,\n",
    "226.3999938964844,\n",
    "224.52999877929688,\n",
    "226.83999633789065,\n",
    "227.17999267578125,\n",
    "228.02999877929688,\n",
    "226.4900054931641,\n",
    "229.7899932861328,\n",
    "228.99999999999997,\n",
    "222.77000427246094,\n",
    "220.85000610351562,\n",
    "222.38000488281247,\n",
    "220.82000732421878,\n",
    "220.91000366210935,\n",
    "220.11000061035156,\n",
    "222.66000366210935,\n",
    "222.77000427246094,\n",
    "222.5,\n",
    "216.32000732421875,\n",
    "216.7899932861328,\n",
    "220.69000244140625,\n",
    "228.8699951171875,\n",
    "228.1999969482422,\n",
    "226.47000122070312,\n",
    "227.36999511718747,\n",
    "226.36999511718747,\n",
    "227.5200042724609,\n",
    "227.7899932861328,\n",
    "232.99999999999997,\n",
    "226.2100067138672,\n",
    "226.77999877929688,\n",
    "225.66999816894534,\n",
    "226.8000030517578,\n",
    "221.69000244140625,\n",
    "225.77000427246094,\n",
    "229.5399932861328,\n",
    "229.0399932861328,\n",
    "227.5500030517578,\n",
    "231.30000305175784,\n",
    "233.8500061035156,\n",
    "231.77999877929688,\n",
    "232.1499938964844,\n",
    "235.00000000000003,\n",
    "236.47999572753906,\n",
    "235.8600006103516,\n",
    "230.75999450683597,\n",
    "230.57000732421875,\n",
    "231.41000366210932,\n",
    "233.3999938964844,\n",
    "233.6699981689453,\n",
    "230.10000610351557,\n",
    "225.91000366210935,\n",
    "222.91000366210935,\n",
    "222.00999450683597"
   ]
  },
  {
   "cell_type": "code",
   "execution_count": 68,
   "metadata": {},
   "outputs": [
    {
     "data": {
      "text/html": [
       "<pre style=\"white-space:pre;overflow-x:auto;line-height:normal;font-family:Menlo,'DejaVu Sans Mono',consolas,'Courier New',monospace\"><span style=\"font-weight: bold\">Model: \"sequential_2\"</span>\n",
       "</pre>\n"
      ],
      "text/plain": [
       "\u001b[1mModel: \"sequential_2\"\u001b[0m\n"
      ]
     },
     "metadata": {},
     "output_type": "display_data"
    },
    {
     "data": {
      "text/html": [
       "<pre style=\"white-space:pre;overflow-x:auto;line-height:normal;font-family:Menlo,'DejaVu Sans Mono',consolas,'Courier New',monospace\">┏━━━━━━━━━━━━━━━━━━━━━━━━━━━━━━━━━┳━━━━━━━━━━━━━━━━━━━━━━━━┳━━━━━━━━━━━━━━━┓\n",
       "┃<span style=\"font-weight: bold\"> Layer (type)                    </span>┃<span style=\"font-weight: bold\"> Output Shape           </span>┃<span style=\"font-weight: bold\">       Param # </span>┃\n",
       "┡━━━━━━━━━━━━━━━━━━━━━━━━━━━━━━━━━╇━━━━━━━━━━━━━━━━━━━━━━━━╇━━━━━━━━━━━━━━━┩\n",
       "│ lstm_4 (<span style=\"color: #0087ff; text-decoration-color: #0087ff\">LSTM</span>)                   │ (<span style=\"color: #00d7ff; text-decoration-color: #00d7ff\">None</span>, <span style=\"color: #00af00; text-decoration-color: #00af00\">60</span>, <span style=\"color: #00af00; text-decoration-color: #00af00\">50</span>)         │        <span style=\"color: #00af00; text-decoration-color: #00af00\">10,400</span> │\n",
       "├─────────────────────────────────┼────────────────────────┼───────────────┤\n",
       "│ lstm_5 (<span style=\"color: #0087ff; text-decoration-color: #0087ff\">LSTM</span>)                   │ (<span style=\"color: #00d7ff; text-decoration-color: #00d7ff\">None</span>, <span style=\"color: #00af00; text-decoration-color: #00af00\">50</span>)             │        <span style=\"color: #00af00; text-decoration-color: #00af00\">20,200</span> │\n",
       "├─────────────────────────────────┼────────────────────────┼───────────────┤\n",
       "│ dense_2 (<span style=\"color: #0087ff; text-decoration-color: #0087ff\">Dense</span>)                 │ (<span style=\"color: #00d7ff; text-decoration-color: #00d7ff\">None</span>, <span style=\"color: #00af00; text-decoration-color: #00af00\">1</span>)              │            <span style=\"color: #00af00; text-decoration-color: #00af00\">51</span> │\n",
       "└─────────────────────────────────┴────────────────────────┴───────────────┘\n",
       "</pre>\n"
      ],
      "text/plain": [
       "┏━━━━━━━━━━━━━━━━━━━━━━━━━━━━━━━━━┳━━━━━━━━━━━━━━━━━━━━━━━━┳━━━━━━━━━━━━━━━┓\n",
       "┃\u001b[1m \u001b[0m\u001b[1mLayer (type)                   \u001b[0m\u001b[1m \u001b[0m┃\u001b[1m \u001b[0m\u001b[1mOutput Shape          \u001b[0m\u001b[1m \u001b[0m┃\u001b[1m \u001b[0m\u001b[1m      Param #\u001b[0m\u001b[1m \u001b[0m┃\n",
       "┡━━━━━━━━━━━━━━━━━━━━━━━━━━━━━━━━━╇━━━━━━━━━━━━━━━━━━━━━━━━╇━━━━━━━━━━━━━━━┩\n",
       "│ lstm_4 (\u001b[38;5;33mLSTM\u001b[0m)                   │ (\u001b[38;5;45mNone\u001b[0m, \u001b[38;5;34m60\u001b[0m, \u001b[38;5;34m50\u001b[0m)         │        \u001b[38;5;34m10,400\u001b[0m │\n",
       "├─────────────────────────────────┼────────────────────────┼───────────────┤\n",
       "│ lstm_5 (\u001b[38;5;33mLSTM\u001b[0m)                   │ (\u001b[38;5;45mNone\u001b[0m, \u001b[38;5;34m50\u001b[0m)             │        \u001b[38;5;34m20,200\u001b[0m │\n",
       "├─────────────────────────────────┼────────────────────────┼───────────────┤\n",
       "│ dense_2 (\u001b[38;5;33mDense\u001b[0m)                 │ (\u001b[38;5;45mNone\u001b[0m, \u001b[38;5;34m1\u001b[0m)              │            \u001b[38;5;34m51\u001b[0m │\n",
       "└─────────────────────────────────┴────────────────────────┴───────────────┘\n"
      ]
     },
     "metadata": {},
     "output_type": "display_data"
    },
    {
     "data": {
      "text/html": [
       "<pre style=\"white-space:pre;overflow-x:auto;line-height:normal;font-family:Menlo,'DejaVu Sans Mono',consolas,'Courier New',monospace\"><span style=\"font-weight: bold\"> Total params: </span><span style=\"color: #00af00; text-decoration-color: #00af00\">91,955</span> (359.20 KB)\n",
       "</pre>\n"
      ],
      "text/plain": [
       "\u001b[1m Total params: \u001b[0m\u001b[38;5;34m91,955\u001b[0m (359.20 KB)\n"
      ]
     },
     "metadata": {},
     "output_type": "display_data"
    },
    {
     "data": {
      "text/html": [
       "<pre style=\"white-space:pre;overflow-x:auto;line-height:normal;font-family:Menlo,'DejaVu Sans Mono',consolas,'Courier New',monospace\"><span style=\"font-weight: bold\"> Trainable params: </span><span style=\"color: #00af00; text-decoration-color: #00af00\">30,651</span> (119.73 KB)\n",
       "</pre>\n"
      ],
      "text/plain": [
       "\u001b[1m Trainable params: \u001b[0m\u001b[38;5;34m30,651\u001b[0m (119.73 KB)\n"
      ]
     },
     "metadata": {},
     "output_type": "display_data"
    },
    {
     "data": {
      "text/html": [
       "<pre style=\"white-space:pre;overflow-x:auto;line-height:normal;font-family:Menlo,'DejaVu Sans Mono',consolas,'Courier New',monospace\"><span style=\"font-weight: bold\"> Non-trainable params: </span><span style=\"color: #00af00; text-decoration-color: #00af00\">0</span> (0.00 B)\n",
       "</pre>\n"
      ],
      "text/plain": [
       "\u001b[1m Non-trainable params: \u001b[0m\u001b[38;5;34m0\u001b[0m (0.00 B)\n"
      ]
     },
     "metadata": {},
     "output_type": "display_data"
    },
    {
     "data": {
      "text/html": [
       "<pre style=\"white-space:pre;overflow-x:auto;line-height:normal;font-family:Menlo,'DejaVu Sans Mono',consolas,'Courier New',monospace\"><span style=\"font-weight: bold\"> Optimizer params: </span><span style=\"color: #00af00; text-decoration-color: #00af00\">61,304</span> (239.47 KB)\n",
       "</pre>\n"
      ],
      "text/plain": [
       "\u001b[1m Optimizer params: \u001b[0m\u001b[38;5;34m61,304\u001b[0m (239.47 KB)\n"
      ]
     },
     "metadata": {},
     "output_type": "display_data"
    },
    {
     "name": "stdout",
     "output_type": "stream",
     "text": [
      "\u001b[1m1/1\u001b[0m \u001b[32m━━━━━━━━━━━━━━━━━━━━\u001b[0m\u001b[37m\u001b[0m \u001b[1m0s\u001b[0m 49ms/step\n",
      "\u001b[1m1/1\u001b[0m \u001b[32m━━━━━━━━━━━━━━━━━━━━\u001b[0m\u001b[37m\u001b[0m \u001b[1m0s\u001b[0m 26ms/step\n",
      "\u001b[1m1/1\u001b[0m \u001b[32m━━━━━━━━━━━━━━━━━━━━\u001b[0m\u001b[37m\u001b[0m \u001b[1m0s\u001b[0m 27ms/step\n",
      "\u001b[1m1/1\u001b[0m \u001b[32m━━━━━━━━━━━━━━━━━━━━\u001b[0m\u001b[37m\u001b[0m \u001b[1m0s\u001b[0m 28ms/step\n",
      "\u001b[1m1/1\u001b[0m \u001b[32m━━━━━━━━━━━━━━━━━━━━\u001b[0m\u001b[37m\u001b[0m \u001b[1m0s\u001b[0m 29ms/step\n",
      "\u001b[1m1/1\u001b[0m \u001b[32m━━━━━━━━━━━━━━━━━━━━\u001b[0m\u001b[37m\u001b[0m \u001b[1m0s\u001b[0m 20ms/step\n",
      "\u001b[1m1/1\u001b[0m \u001b[32m━━━━━━━━━━━━━━━━━━━━\u001b[0m\u001b[37m\u001b[0m \u001b[1m0s\u001b[0m 17ms/step\n",
      "\u001b[1m1/1\u001b[0m \u001b[32m━━━━━━━━━━━━━━━━━━━━\u001b[0m\u001b[37m\u001b[0m \u001b[1m0s\u001b[0m 24ms/step\n",
      "\u001b[1m1/1\u001b[0m \u001b[32m━━━━━━━━━━━━━━━━━━━━\u001b[0m\u001b[37m\u001b[0m \u001b[1m0s\u001b[0m 12ms/step\n",
      "\u001b[1m1/1\u001b[0m \u001b[32m━━━━━━━━━━━━━━━━━━━━\u001b[0m\u001b[37m\u001b[0m \u001b[1m0s\u001b[0m 22ms/step\n",
      "\u001b[1m1/1\u001b[0m \u001b[32m━━━━━━━━━━━━━━━━━━━━\u001b[0m\u001b[37m\u001b[0m \u001b[1m0s\u001b[0m 25ms/step\n",
      "\u001b[1m1/1\u001b[0m \u001b[32m━━━━━━━━━━━━━━━━━━━━\u001b[0m\u001b[37m\u001b[0m \u001b[1m0s\u001b[0m 23ms/step\n",
      "\u001b[1m1/1\u001b[0m \u001b[32m━━━━━━━━━━━━━━━━━━━━\u001b[0m\u001b[37m\u001b[0m \u001b[1m0s\u001b[0m 19ms/step\n",
      "\u001b[1m1/1\u001b[0m \u001b[32m━━━━━━━━━━━━━━━━━━━━\u001b[0m\u001b[37m\u001b[0m \u001b[1m0s\u001b[0m 27ms/step\n",
      "\u001b[1m1/1\u001b[0m \u001b[32m━━━━━━━━━━━━━━━━━━━━\u001b[0m\u001b[37m\u001b[0m \u001b[1m0s\u001b[0m 27ms/step\n",
      "\u001b[1m1/1\u001b[0m \u001b[32m━━━━━━━━━━━━━━━━━━━━\u001b[0m\u001b[37m\u001b[0m \u001b[1m0s\u001b[0m 33ms/step\n",
      "\u001b[1m1/1\u001b[0m \u001b[32m━━━━━━━━━━━━━━━━━━━━\u001b[0m\u001b[37m\u001b[0m \u001b[1m0s\u001b[0m 23ms/step\n",
      "\u001b[1m1/1\u001b[0m \u001b[32m━━━━━━━━━━━━━━━━━━━━\u001b[0m\u001b[37m\u001b[0m \u001b[1m0s\u001b[0m 19ms/step\n",
      "\u001b[1m1/1\u001b[0m \u001b[32m━━━━━━━━━━━━━━━━━━━━\u001b[0m\u001b[37m\u001b[0m \u001b[1m0s\u001b[0m 19ms/step\n",
      "\u001b[1m1/1\u001b[0m \u001b[32m━━━━━━━━━━━━━━━━━━━━\u001b[0m\u001b[37m\u001b[0m \u001b[1m0s\u001b[0m 26ms/step\n",
      "\u001b[1m1/1\u001b[0m \u001b[32m━━━━━━━━━━━━━━━━━━━━\u001b[0m\u001b[37m\u001b[0m \u001b[1m0s\u001b[0m 34ms/step\n",
      "\u001b[1m1/1\u001b[0m \u001b[32m━━━━━━━━━━━━━━━━━━━━\u001b[0m\u001b[37m\u001b[0m \u001b[1m0s\u001b[0m 25ms/step\n",
      "\u001b[1m1/1\u001b[0m \u001b[32m━━━━━━━━━━━━━━━━━━━━\u001b[0m\u001b[37m\u001b[0m \u001b[1m0s\u001b[0m 26ms/step\n",
      "\u001b[1m1/1\u001b[0m \u001b[32m━━━━━━━━━━━━━━━━━━━━\u001b[0m\u001b[37m\u001b[0m \u001b[1m0s\u001b[0m 17ms/step\n",
      "\u001b[1m1/1\u001b[0m \u001b[32m━━━━━━━━━━━━━━━━━━━━\u001b[0m\u001b[37m\u001b[0m \u001b[1m0s\u001b[0m 21ms/step\n",
      "\u001b[1m1/1\u001b[0m \u001b[32m━━━━━━━━━━━━━━━━━━━━\u001b[0m\u001b[37m\u001b[0m \u001b[1m0s\u001b[0m 22ms/step\n",
      "\u001b[1m1/1\u001b[0m \u001b[32m━━━━━━━━━━━━━━━━━━━━\u001b[0m\u001b[37m\u001b[0m \u001b[1m0s\u001b[0m 14ms/step\n",
      "\u001b[1m1/1\u001b[0m \u001b[32m━━━━━━━━━━━━━━━━━━━━\u001b[0m\u001b[37m\u001b[0m \u001b[1m0s\u001b[0m 26ms/step\n",
      "\u001b[1m1/1\u001b[0m \u001b[32m━━━━━━━━━━━━━━━━━━━━\u001b[0m\u001b[37m\u001b[0m \u001b[1m0s\u001b[0m 32ms/step\n",
      "\u001b[1m1/1\u001b[0m \u001b[32m━━━━━━━━━━━━━━━━━━━━\u001b[0m\u001b[37m\u001b[0m \u001b[1m0s\u001b[0m 22ms/step\n"
     ]
    },
    {
     "data": {
      "image/png": "[encoded data removed]",
      "text/plain": [
       "<Figure size 1200x600 with 1 Axes>"
      ]
     },
     "metadata": {},
     "output_type": "display_data"
    },
    {
     "name": "stdout",
     "output_type": "stream",
     "text": [
      "[np.float32(223.8852), np.float32(225.58138), np.float32(227.07812), np.float32(228.32521), np.float32(229.27495), np.float32(229.97432), np.float32(230.49928), np.float32(230.92543), np.float32(231.31313), np.float32(231.70229), np.float32(232.11356), np.float32(232.55319), np.float32(233.01813), np.float32(233.50073), np.float32(233.99258), np.float32(234.48634), np.float32(234.97676), np.float32(235.46097), np.float32(235.93776), np.float32(236.40732), np.float32(236.87057), np.float32(237.32863), np.float32(237.78268), np.float32(238.23352), np.float32(238.68195), np.float32(239.12825), np.float32(239.57275), np.float32(240.01544), np.float32(240.45642), np.float32(240.89563)]\n"
     ]
    }
   ],
   "source": [
    "import matplotlib.pyplot as plt\n",
    "def predict_for_future(model,scaled_data,days_to_predict,time_step):\n",
    "    # Get the last 60 days of data\n",
    "    model.summary()\n",
    "    last_sequence = scaled_data[-time_step:]\n",
    "    last_sequence = last_sequence.reshape((1,time_step,1))\n",
    "    days_to_predict = 30\n",
    "    predicted_prices = []\n",
    "    for i in range(days_to_predict):\n",
    "        predicted_price_scaled = model.predict(last_sequence)\n",
    "        predicted_price = scaler.inverse_transform(predicted_price_scaled)\n",
    "\n",
    "        # Save the predicted price\n",
    "        predicted_prices.append(predicted_price[0][0])\n",
    "\n",
    "        # Update the sequence with the predicted price\n",
    "        new_sequence = np.append(last_sequence[:, 1:, :], [[predicted_price_scaled[0]]], axis=1)\n",
    "        last_sequence = new_sequence\n",
    "\n",
    "    plt.figure(figsize=(12, 6))\n",
    "    plt.plot(predicted_prices, label=\"Predicted Prices\")\n",
    "    plt.title(\"Predicted Stock Prices for the Next 30 Days\")\n",
    "    plt.xlabel(\"Day\")\n",
    "    plt.ylabel(\"Stock Price\")\n",
    "    plt.legend()\n",
    "    plt.show()\n",
    "    return predicted_prices\n",
    "\n",
    "predicted_prices = predict_for_future(model,scaled_data,days_to_predict=30,time_step=60)\n",
    "print(predicted_prices)"
   ]
  },
  {
   "cell_type": "code",
   "execution_count": 54,
   "metadata": {},
   "outputs": [],
   "source": [
    "arr = [np.float32(223.8852), np.float32(225.58138), np.float32(227.07812), np.float32(228.32521), np.float32(229.27495), np.float32(229.97432), np.float32(230.49928), np.float32(230.92543), np.float32(231.31313), np.float32(231.70229), np.float32(232.11356), np.float32(232.55319), np.float32(233.01813), np.float32(233.50073), np.float32(233.99258), np.float32(234.48634), np.float32(234.97676), np.float32(235.46097), np.float32(235.93776), np.float32(236.40732), np.float32(236.87057), np.float32(237.32863), np.float32(237.78268), np.float32(238.23352), np.float32(238.68195), np.float32(239.12825), np.float32(239.57275), np.float32(240.01544), np.float32(240.45642), np.float32(240.89563)]"
   ]
  },
  {
   "cell_type": "code",
   "execution_count": 57,
   "metadata": {},
   "outputs": [],
   "source": [
    "lst = [223.8852,225.58138,227.07812,228.32521,229.27495,229.97432,230.49928,230.92543,231.31313,231.70229,232.11356,232.55319,233.01813,233.50073,233.99258,234.48634,234.97676,235.46097,235.93776,236.40732,236.87057,237.32863,237.78268,238.23352,238.68195,239.12825,239.57275,240.01544,240.45642,240.89563]"
   ]
  },
  {
   "cell_type": "code",
   "execution_count": 58,
   "metadata": {},
   "outputs": [
    {
     "data": {
      "text/plain": [
       "30"
      ]
     },
     "execution_count": 58,
     "metadata": {},
     "output_type": "execute_result"
    }
   ],
   "source": [
    "len(lst)"
   ]
  },
  {
   "cell_type": "code",
   "execution_count": null,
   "metadata": {},
   "outputs": [],
   "source": []
  }
 ],
 "metadata": {
  "kernelspec": {
   "display_name": "stockenv",
   "language": "python",
   "name": "python3"
  },
  "language_info": {
   "codemirror_mode": {
    "name": "ipython",
    "version": 3
   },
   "file_extension": ".py",
   "mimetype": "text/x-python",
   "name": "python",
   "nbconvert_exporter": "python",
   "pygments_lexer": "ipython3",
   "version": "3.11.10"
  }
 },
 "nbformat": 4,
 "nbformat_minor": 2
}
